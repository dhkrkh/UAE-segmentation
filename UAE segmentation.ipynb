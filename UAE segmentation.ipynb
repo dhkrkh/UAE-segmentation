{
  "cells": [
    {
      "cell_type": "markdown",
      "metadata": {
        "id": "view-in-github",
        "colab_type": "text"
      },
      "source": [
        "<a href=\"https://colab.research.google.com/github/dhkrkh/UAE-segmentation/blob/main/UAE%20segmentation.ipynb\" target=\"_parent\"><img src=\"https://colab.research.google.com/assets/colab-badge.svg\" alt=\"Open In Colab\"/></a>"
      ]
    },
    {
      "cell_type": "code",
      "source": [
        "import matplotlib.pyplot as plt\n",
        "import numpy as np\n",
        "\n",
        "import tensorflow as tf\n",
        "from tensorflow.keras.models import*\n",
        "from tensorflow.keras.layers import*\n",
        "from tensorflow.keras import backend as K\n",
        "from tensorflow.keras.optimizers import*\n",
        "from tensorflow.keras.utils import to_categorical\n",
        "from tensorflow.keras.datasets import mnist\n",
        "from tensorflow.image import ResizeMethod\n",
        "import albumentations as A\n",
        "\n",
        "import glob\n",
        "import tifffile as tiff\n",
        "import cv2\n",
        "from skimage.io import imsave, imread, imshow\n",
        "from skimage import color\n",
        "from PIL import Image\n",
        "from skimage.transform import resize\n",
        "import os\n",
        "from tensorflow.keras.callbacks import EarlyStopping, ModelCheckpoint, Callback\n",
        "from tensorflow.keras.metrics import MeanIoU, Accuracy"
      ],
      "metadata": {
        "id": "wKgHnPDfVtFU"
      },
      "execution_count": null,
      "outputs": []
    },
    {
      "cell_type": "code",
      "source": [
        ""
      ],
      "metadata": {
        "id": "RiZSyJG2Vtbl"
      },
      "execution_count": null,
      "outputs": []
    }
  ],
  "metadata": {
    "colab": {
      "collapsed_sections": [],
      "name": "Welcome To Colaboratory",
      "provenance": [],
      "include_colab_link": true
    },
    "kernelspec": {
      "display_name": "Python 3",
      "name": "python3"
    }
  },
  "nbformat": 4,
  "nbformat_minor": 0
}